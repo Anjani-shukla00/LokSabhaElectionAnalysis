{
 "cells": [
  {
   "cell_type": "markdown",
   "id": "2f85f573-0ef1-484d-9b1f-4666c5560d89",
   "metadata": {},
   "source": [
    "# Analysis and Visualization of Indian Candidates for Lok Sabha Election "
   ]
  },
  {
   "cell_type": "markdown",
   "id": "22fb401b-428c-4676-bf1e-27b3e44054c3",
   "metadata": {},
   "source": [
    "# 1. Youngest candidates who participated in Lok Shabha Election?\n",
    "# 2. Candidate with Highest number of Criminal Cases.\n",
    "# 3. Parties with total number of criminal cases.\n",
    "# 4. Education of each candidates ? Most comman education level?\n",
    "# 5. Different Constituency and Criminal cases count  in 2024 Elections."
   ]
  },
  {
   "cell_type": "markdown",
   "id": "5bb07506-cd1b-4b79-b804-1e6f7eb45aa5",
   "metadata": {},
   "source": [
    "# Import Required Libraries"
   ]
  },
  {
   "cell_type": "code",
   "execution_count": 1,
   "id": "b9b0ebe6-5aa5-4593-8c36-8d0b4b4bf4ca",
   "metadata": {},
   "outputs": [],
   "source": [
    "import pandas as pd\n",
    "import matplotlib.pyplot as plt\n",
    "import seaborn as sns\n",
    "%matplotlib inline \n",
    "#This is a magic command specific to Jupyter Notebook means are displayed inline, that is directly within the notebook, insted of in a separate window\n",
    "plt.style.use('fivethirtyeight') \n",
    "# is one of the Matplotlib's predefined styles\n"
   ]
  },
  {
   "cell_type": "markdown",
   "id": "9bc3dc98-6ef3-4a5b-89ef-3c647c00fd6d",
   "metadata": {},
   "source": [
    "# Load Dataset"
   ]
  },
  {
   "cell_type": "code",
   "execution_count": 2,
   "id": "9b960139-4b08-4e53-bdf0-8a30604b1817",
   "metadata": {},
   "outputs": [
    {
     "data": {
      "text/html": [
       "<div>\n",
       "<style scoped>\n",
       "    .dataframe tbody tr th:only-of-type {\n",
       "        vertical-align: middle;\n",
       "    }\n",
       "\n",
       "    .dataframe tbody tr th {\n",
       "        vertical-align: top;\n",
       "    }\n",
       "\n",
       "    .dataframe thead th {\n",
       "        text-align: right;\n",
       "    }\n",
       "</style>\n",
       "<table border=\"1\" class=\"dataframe\">\n",
       "  <thead>\n",
       "    <tr style=\"text-align: right;\">\n",
       "      <th></th>\n",
       "      <th>Candidate</th>\n",
       "      <th>Party</th>\n",
       "      <th>Criminal Cases</th>\n",
       "      <th>Education</th>\n",
       "      <th>Age</th>\n",
       "      <th>Total Assets</th>\n",
       "      <th>Constituency</th>\n",
       "      <th>Liabilities</th>\n",
       "      <th>Winner</th>\n",
       "      <th>Gender</th>\n",
       "    </tr>\n",
       "  </thead>\n",
       "  <tbody>\n",
       "    <tr>\n",
       "      <th>0</th>\n",
       "      <td>Manoranjan Bhakta</td>\n",
       "      <td>INC</td>\n",
       "      <td>0</td>\n",
       "      <td>Post Graduate</td>\n",
       "      <td>65</td>\n",
       "      <td>5926740.0</td>\n",
       "      <td>Andaman &amp; Nicobar Islands</td>\n",
       "      <td>272061</td>\n",
       "      <td>1</td>\n",
       "      <td>M</td>\n",
       "    </tr>\n",
       "    <tr>\n",
       "      <th>1</th>\n",
       "      <td>A K Biswas</td>\n",
       "      <td>BSP</td>\n",
       "      <td>0</td>\n",
       "      <td>Graduate</td>\n",
       "      <td>61</td>\n",
       "      <td>7876500.0</td>\n",
       "      <td>Andaman &amp; Nicobar Islands</td>\n",
       "      <td>65000</td>\n",
       "      <td>0</td>\n",
       "      <td>M</td>\n",
       "    </tr>\n",
       "    <tr>\n",
       "      <th>2</th>\n",
       "      <td>Asit Baran Dutta</td>\n",
       "      <td>IND</td>\n",
       "      <td>0</td>\n",
       "      <td>Graduate</td>\n",
       "      <td>50</td>\n",
       "      <td>3070000.0</td>\n",
       "      <td>Andaman &amp; Nicobar Islands</td>\n",
       "      <td>0</td>\n",
       "      <td>0</td>\n",
       "      <td>M</td>\n",
       "    </tr>\n",
       "    <tr>\n",
       "      <th>3</th>\n",
       "      <td>Bishnu Pada Ray</td>\n",
       "      <td>BJP</td>\n",
       "      <td>0</td>\n",
       "      <td>Graduate</td>\n",
       "      <td>54</td>\n",
       "      <td>1250619.0</td>\n",
       "      <td>Andaman &amp; Nicobar Islands</td>\n",
       "      <td>128710</td>\n",
       "      <td>0</td>\n",
       "      <td>M</td>\n",
       "    </tr>\n",
       "    <tr>\n",
       "      <th>4</th>\n",
       "      <td>Deepak Biswas</td>\n",
       "      <td>IND</td>\n",
       "      <td>0</td>\n",
       "      <td>Not Given</td>\n",
       "      <td>28</td>\n",
       "      <td>3000.0</td>\n",
       "      <td>Andaman &amp; Nicobar Islands</td>\n",
       "      <td>0</td>\n",
       "      <td>0</td>\n",
       "      <td>M</td>\n",
       "    </tr>\n",
       "    <tr>\n",
       "      <th>...</th>\n",
       "      <td>...</td>\n",
       "      <td>...</td>\n",
       "      <td>...</td>\n",
       "      <td>...</td>\n",
       "      <td>...</td>\n",
       "      <td>...</td>\n",
       "      <td>...</td>\n",
       "      <td>...</td>\n",
       "      <td>...</td>\n",
       "      <td>...</td>\n",
       "    </tr>\n",
       "    <tr>\n",
       "      <th>3637</th>\n",
       "      <td>Susmita Bauri</td>\n",
       "      <td>CPM</td>\n",
       "      <td>0</td>\n",
       "      <td>Graduate Professional</td>\n",
       "      <td>29</td>\n",
       "      <td>33000.0</td>\n",
       "      <td>Vishnupur</td>\n",
       "      <td>10000</td>\n",
       "      <td>1</td>\n",
       "      <td>F</td>\n",
       "    </tr>\n",
       "    <tr>\n",
       "      <th>3638</th>\n",
       "      <td>Achintya Majhi</td>\n",
       "      <td>INC</td>\n",
       "      <td>0</td>\n",
       "      <td>Graduate</td>\n",
       "      <td>38</td>\n",
       "      <td>67264.0</td>\n",
       "      <td>Vishnupur</td>\n",
       "      <td>50050</td>\n",
       "      <td>0</td>\n",
       "      <td>M</td>\n",
       "    </tr>\n",
       "    <tr>\n",
       "      <th>3639</th>\n",
       "      <td>Ajoy Bauri</td>\n",
       "      <td>BSP</td>\n",
       "      <td>0</td>\n",
       "      <td>Not Given</td>\n",
       "      <td>40</td>\n",
       "      <td>35000.0</td>\n",
       "      <td>Vishnupur</td>\n",
       "      <td>0</td>\n",
       "      <td>0</td>\n",
       "      <td>M</td>\n",
       "    </tr>\n",
       "    <tr>\n",
       "      <th>3640</th>\n",
       "      <td>Janardan Saha</td>\n",
       "      <td>AITC</td>\n",
       "      <td>0</td>\n",
       "      <td>Post Graduate</td>\n",
       "      <td>37</td>\n",
       "      <td>233612.0</td>\n",
       "      <td>Vishnupur</td>\n",
       "      <td>14000</td>\n",
       "      <td>0</td>\n",
       "      <td>M</td>\n",
       "    </tr>\n",
       "    <tr>\n",
       "      <th>3641</th>\n",
       "      <td>Sraban Mondal</td>\n",
       "      <td>IND</td>\n",
       "      <td>0</td>\n",
       "      <td>Graduate</td>\n",
       "      <td>40</td>\n",
       "      <td>NaN</td>\n",
       "      <td>Vishnupur</td>\n",
       "      <td>0</td>\n",
       "      <td>0</td>\n",
       "      <td>M</td>\n",
       "    </tr>\n",
       "  </tbody>\n",
       "</table>\n",
       "<p>3642 rows × 10 columns</p>\n",
       "</div>"
      ],
      "text/plain": [
       "              Candidate Party  Criminal Cases              Education  Age  \\\n",
       "0     Manoranjan Bhakta   INC               0          Post Graduate   65   \n",
       "1            A K Biswas   BSP               0               Graduate   61   \n",
       "2      Asit Baran Dutta   IND               0               Graduate   50   \n",
       "3       Bishnu Pada Ray   BJP               0               Graduate   54   \n",
       "4         Deepak Biswas   IND               0              Not Given   28   \n",
       "...                 ...   ...             ...                    ...  ...   \n",
       "3637      Susmita Bauri   CPM               0  Graduate Professional   29   \n",
       "3638     Achintya Majhi   INC               0               Graduate   38   \n",
       "3639         Ajoy Bauri   BSP               0              Not Given   40   \n",
       "3640      Janardan Saha  AITC               0          Post Graduate   37   \n",
       "3641      Sraban Mondal   IND               0               Graduate   40   \n",
       "\n",
       "      Total Assets               Constituency  Liabilities  Winner Gender  \n",
       "0        5926740.0  Andaman & Nicobar Islands       272061       1      M  \n",
       "1        7876500.0  Andaman & Nicobar Islands        65000       0      M  \n",
       "2        3070000.0  Andaman & Nicobar Islands            0       0      M  \n",
       "3        1250619.0  Andaman & Nicobar Islands       128710       0      M  \n",
       "4           3000.0  Andaman & Nicobar Islands            0       0      M  \n",
       "...            ...                        ...          ...     ...    ...  \n",
       "3637       33000.0                  Vishnupur        10000       1      F  \n",
       "3638       67264.0                  Vishnupur        50050       0      M  \n",
       "3639       35000.0                  Vishnupur            0       0      M  \n",
       "3640      233612.0                  Vishnupur        14000       0      M  \n",
       "3641           NaN                  Vishnupur            0       0      M  \n",
       "\n",
       "[3642 rows x 10 columns]"
      ]
     },
     "execution_count": 2,
     "metadata": {},
     "output_type": "execute_result"
    }
   ],
   "source": [
    "candidates_2004 = pd.read_csv(\"LokSabha2004.csv\")\n",
    "#print(candidates_2004)\n",
    "candidates_2004"
   ]
  },
  {
   "cell_type": "code",
   "execution_count": 3,
   "id": "13fbb4f7-36ed-46c3-ad37-ee26a264387f",
   "metadata": {},
   "outputs": [
    {
     "data": {
      "text/html": [
       "<div>\n",
       "<style scoped>\n",
       "    .dataframe tbody tr th:only-of-type {\n",
       "        vertical-align: middle;\n",
       "    }\n",
       "\n",
       "    .dataframe tbody tr th {\n",
       "        vertical-align: top;\n",
       "    }\n",
       "\n",
       "    .dataframe thead th {\n",
       "        text-align: right;\n",
       "    }\n",
       "</style>\n",
       "<table border=\"1\" class=\"dataframe\">\n",
       "  <thead>\n",
       "    <tr style=\"text-align: right;\">\n",
       "      <th></th>\n",
       "      <th>Candidate</th>\n",
       "      <th>Party</th>\n",
       "      <th>Criminal Cases</th>\n",
       "      <th>Education</th>\n",
       "      <th>Age</th>\n",
       "      <th>Total Assets</th>\n",
       "      <th>Constituency</th>\n",
       "      <th>Liabilities</th>\n",
       "      <th>Winner</th>\n",
       "      <th>Gender</th>\n",
       "    </tr>\n",
       "  </thead>\n",
       "  <tbody>\n",
       "    <tr>\n",
       "      <th>0</th>\n",
       "      <td>Shri Bishnu Pada Ray</td>\n",
       "      <td>BJP</td>\n",
       "      <td>1</td>\n",
       "      <td>Graduate</td>\n",
       "      <td>59</td>\n",
       "      <td>1241034.0</td>\n",
       "      <td>Andaman &amp; Nicobar Islands</td>\n",
       "      <td>0</td>\n",
       "      <td>0</td>\n",
       "      <td>M</td>\n",
       "    </tr>\n",
       "    <tr>\n",
       "      <th>1</th>\n",
       "      <td>Shri P. R. Ganeshan</td>\n",
       "      <td>RJD</td>\n",
       "      <td>0</td>\n",
       "      <td>Not Given</td>\n",
       "      <td>71</td>\n",
       "      <td>329563.0</td>\n",
       "      <td>Andaman &amp; Nicobar Islands</td>\n",
       "      <td>0</td>\n",
       "      <td>0</td>\n",
       "      <td>M</td>\n",
       "    </tr>\n",
       "    <tr>\n",
       "      <th>2</th>\n",
       "      <td>Shri Pradeep Kumar Ekka</td>\n",
       "      <td>JDP</td>\n",
       "      <td>0</td>\n",
       "      <td>Others</td>\n",
       "      <td>37</td>\n",
       "      <td>410000.0</td>\n",
       "      <td>Andaman &amp; Nicobar Islands</td>\n",
       "      <td>0</td>\n",
       "      <td>0</td>\n",
       "      <td>M</td>\n",
       "    </tr>\n",
       "    <tr>\n",
       "      <th>3</th>\n",
       "      <td>Shri T. Ali</td>\n",
       "      <td>IND</td>\n",
       "      <td>0</td>\n",
       "      <td>12th Pass</td>\n",
       "      <td>37</td>\n",
       "      <td>445957.0</td>\n",
       "      <td>Andaman &amp; Nicobar Islands</td>\n",
       "      <td>296000</td>\n",
       "      <td>0</td>\n",
       "      <td>M</td>\n",
       "    </tr>\n",
       "    <tr>\n",
       "      <th>4</th>\n",
       "      <td>Shri Tapan Kumar Bepari</td>\n",
       "      <td>CPM</td>\n",
       "      <td>0</td>\n",
       "      <td>Post Graduate</td>\n",
       "      <td>52</td>\n",
       "      <td>3986000.0</td>\n",
       "      <td>Andaman &amp; Nicobar Islands</td>\n",
       "      <td>0</td>\n",
       "      <td>0</td>\n",
       "      <td>M</td>\n",
       "    </tr>\n",
       "  </tbody>\n",
       "</table>\n",
       "</div>"
      ],
      "text/plain": [
       "                 Candidate Party  Criminal Cases      Education  Age  \\\n",
       "0     Shri Bishnu Pada Ray   BJP               1       Graduate   59   \n",
       "1      Shri P. R. Ganeshan   RJD               0      Not Given   71   \n",
       "2  Shri Pradeep Kumar Ekka   JDP               0         Others   37   \n",
       "3              Shri T. Ali   IND               0      12th Pass   37   \n",
       "4  Shri Tapan Kumar Bepari   CPM               0  Post Graduate   52   \n",
       "\n",
       "   Total Assets               Constituency  Liabilities  Winner Gender  \n",
       "0     1241034.0  Andaman & Nicobar Islands            0       0      M  \n",
       "1      329563.0  Andaman & Nicobar Islands            0       0      M  \n",
       "2      410000.0  Andaman & Nicobar Islands            0       0      M  \n",
       "3      445957.0  Andaman & Nicobar Islands       296000       0      M  \n",
       "4     3986000.0  Andaman & Nicobar Islands            0       0      M  "
      ]
     },
     "execution_count": 3,
     "metadata": {},
     "output_type": "execute_result"
    }
   ],
   "source": [
    "candidates_2009 = pd.read_csv(\"LokSabha2009.csv\")\n",
    "#print(candidates_2009)\n",
    "candidates_2009.head()"
   ]
  },
  {
   "cell_type": "code",
   "execution_count": 4,
   "id": "7c846feb-cd67-40c0-a180-0be624a9b812",
   "metadata": {},
   "outputs": [
    {
     "data": {
      "text/html": [
       "<div>\n",
       "<style scoped>\n",
       "    .dataframe tbody tr th:only-of-type {\n",
       "        vertical-align: middle;\n",
       "    }\n",
       "\n",
       "    .dataframe tbody tr th {\n",
       "        vertical-align: top;\n",
       "    }\n",
       "\n",
       "    .dataframe thead th {\n",
       "        text-align: right;\n",
       "    }\n",
       "</style>\n",
       "<table border=\"1\" class=\"dataframe\">\n",
       "  <thead>\n",
       "    <tr style=\"text-align: right;\">\n",
       "      <th></th>\n",
       "      <th>Candidate</th>\n",
       "      <th>Party</th>\n",
       "      <th>Criminal Cases</th>\n",
       "      <th>Education</th>\n",
       "      <th>Age</th>\n",
       "      <th>Total Assets</th>\n",
       "      <th>Constituency</th>\n",
       "      <th>Liabilities</th>\n",
       "      <th>Winner</th>\n",
       "      <th>Gender</th>\n",
       "    </tr>\n",
       "  </thead>\n",
       "  <tbody>\n",
       "    <tr>\n",
       "      <th>0</th>\n",
       "      <td>Bishnu Pada Ray</td>\n",
       "      <td>BJP</td>\n",
       "      <td>1</td>\n",
       "      <td>Graduate</td>\n",
       "      <td>64</td>\n",
       "      <td>5658980.0</td>\n",
       "      <td>ANDAMAN AND NICOBAR ISLANDS</td>\n",
       "      <td>175115</td>\n",
       "      <td>0.0</td>\n",
       "      <td>M</td>\n",
       "    </tr>\n",
       "    <tr>\n",
       "      <th>1</th>\n",
       "      <td>A Pandian</td>\n",
       "      <td>AIFB</td>\n",
       "      <td>0</td>\n",
       "      <td>12th Pass</td>\n",
       "      <td>41</td>\n",
       "      <td>859410.0</td>\n",
       "      <td>ANDAMAN AND NICOBAR ISLANDS</td>\n",
       "      <td>350000</td>\n",
       "      <td>0.0</td>\n",
       "      <td>M</td>\n",
       "    </tr>\n",
       "    <tr>\n",
       "      <th>2</th>\n",
       "      <td>Anita Mondal</td>\n",
       "      <td>AITC</td>\n",
       "      <td>1</td>\n",
       "      <td>Graduate</td>\n",
       "      <td>48</td>\n",
       "      <td>5471073.0</td>\n",
       "      <td>ANDAMAN AND NICOBAR ISLANDS</td>\n",
       "      <td>6000</td>\n",
       "      <td>0.0</td>\n",
       "      <td>M</td>\n",
       "    </tr>\n",
       "    <tr>\n",
       "      <th>3</th>\n",
       "      <td>C G Saji Kumar</td>\n",
       "      <td>IND</td>\n",
       "      <td>0</td>\n",
       "      <td>12th Pass</td>\n",
       "      <td>41</td>\n",
       "      <td>50000.0</td>\n",
       "      <td>ANDAMAN AND NICOBAR ISLANDS</td>\n",
       "      <td>0</td>\n",
       "      <td>0.0</td>\n",
       "      <td>M</td>\n",
       "    </tr>\n",
       "    <tr>\n",
       "      <th>4</th>\n",
       "      <td>Gaur Chandra Majumder</td>\n",
       "      <td>BSP</td>\n",
       "      <td>0</td>\n",
       "      <td>Graduate</td>\n",
       "      <td>47</td>\n",
       "      <td>3192819.0</td>\n",
       "      <td>ANDAMAN AND NICOBAR ISLANDS</td>\n",
       "      <td>688689</td>\n",
       "      <td>0.0</td>\n",
       "      <td>M</td>\n",
       "    </tr>\n",
       "  </tbody>\n",
       "</table>\n",
       "</div>"
      ],
      "text/plain": [
       "               Candidate Party  Criminal Cases  Education  Age  Total Assets  \\\n",
       "0        Bishnu Pada Ray   BJP               1   Graduate   64     5658980.0   \n",
       "1              A Pandian  AIFB               0  12th Pass   41      859410.0   \n",
       "2           Anita Mondal  AITC               1   Graduate   48     5471073.0   \n",
       "3         C G Saji Kumar   IND               0  12th Pass   41       50000.0   \n",
       "4  Gaur Chandra Majumder   BSP               0   Graduate   47     3192819.0   \n",
       "\n",
       "                  Constituency  Liabilities  Winner Gender  \n",
       "0  ANDAMAN AND NICOBAR ISLANDS       175115     0.0      M  \n",
       "1  ANDAMAN AND NICOBAR ISLANDS       350000     0.0      M  \n",
       "2  ANDAMAN AND NICOBAR ISLANDS         6000     0.0      M  \n",
       "3  ANDAMAN AND NICOBAR ISLANDS            0     0.0      M  \n",
       "4  ANDAMAN AND NICOBAR ISLANDS       688689     0.0      M  "
      ]
     },
     "execution_count": 4,
     "metadata": {},
     "output_type": "execute_result"
    }
   ],
   "source": [
    "candidates_2014 = pd.read_csv(\"LokSabha2014.csv\")\n",
    "#print(candidates_2014)\n",
    "candidates_2014.head()\n",
    "#head() helps you quickly view the first few rows of the dataframe."
   ]
  },
  {
   "cell_type": "code",
   "execution_count": 5,
   "id": "70a2dd5d-35fa-43d5-b9a4-4b44b667402e",
   "metadata": {},
   "outputs": [
    {
     "data": {
      "text/html": [
       "<div>\n",
       "<style scoped>\n",
       "    .dataframe tbody tr th:only-of-type {\n",
       "        vertical-align: middle;\n",
       "    }\n",
       "\n",
       "    .dataframe tbody tr th {\n",
       "        vertical-align: top;\n",
       "    }\n",
       "\n",
       "    .dataframe thead th {\n",
       "        text-align: right;\n",
       "    }\n",
       "</style>\n",
       "<table border=\"1\" class=\"dataframe\">\n",
       "  <thead>\n",
       "    <tr style=\"text-align: right;\">\n",
       "      <th></th>\n",
       "      <th>Candidate</th>\n",
       "      <th>Party</th>\n",
       "      <th>Criminal Cases</th>\n",
       "      <th>Education</th>\n",
       "      <th>Age</th>\n",
       "      <th>Total Assets</th>\n",
       "      <th>Constituency</th>\n",
       "      <th>Liabilities</th>\n",
       "      <th>Winner</th>\n",
       "      <th>Gender</th>\n",
       "    </tr>\n",
       "  </thead>\n",
       "  <tbody>\n",
       "    <tr>\n",
       "      <th>0</th>\n",
       "      <td>Kuldeep Rai Sharma</td>\n",
       "      <td>INC</td>\n",
       "      <td>0</td>\n",
       "      <td>Graduate Professional</td>\n",
       "      <td>52</td>\n",
       "      <td>132233012.0</td>\n",
       "      <td>Andaman And Nicobar Islands</td>\n",
       "      <td>80450870</td>\n",
       "      <td>1.0</td>\n",
       "      <td>M</td>\n",
       "    </tr>\n",
       "    <tr>\n",
       "      <th>1</th>\n",
       "      <td>Ayan Mandal</td>\n",
       "      <td>AITC</td>\n",
       "      <td>0</td>\n",
       "      <td>Graduate</td>\n",
       "      <td>30</td>\n",
       "      <td>7270440.0</td>\n",
       "      <td>Andaman And Nicobar Islands</td>\n",
       "      <td>1500000</td>\n",
       "      <td>0.0</td>\n",
       "      <td>M</td>\n",
       "    </tr>\n",
       "    <tr>\n",
       "      <th>2</th>\n",
       "      <td>C G Saji Kumar</td>\n",
       "      <td>All India Hindustan Congress Party</td>\n",
       "      <td>0</td>\n",
       "      <td>12th Pass</td>\n",
       "      <td>48</td>\n",
       "      <td>120000.0</td>\n",
       "      <td>Andaman And Nicobar Islands</td>\n",
       "      <td>0</td>\n",
       "      <td>0.0</td>\n",
       "      <td>M</td>\n",
       "    </tr>\n",
       "    <tr>\n",
       "      <th>3</th>\n",
       "      <td>C U Rasheed</td>\n",
       "      <td>IND</td>\n",
       "      <td>0</td>\n",
       "      <td>12th Pass</td>\n",
       "      <td>34</td>\n",
       "      <td>202808.0</td>\n",
       "      <td>Andaman And Nicobar Islands</td>\n",
       "      <td>1700000</td>\n",
       "      <td>0.0</td>\n",
       "      <td>M</td>\n",
       "    </tr>\n",
       "    <tr>\n",
       "      <th>4</th>\n",
       "      <td>Gour Chandra Majumder</td>\n",
       "      <td>IND</td>\n",
       "      <td>0</td>\n",
       "      <td>Graduate</td>\n",
       "      <td>52</td>\n",
       "      <td>6062000.0</td>\n",
       "      <td>Andaman And Nicobar Islands</td>\n",
       "      <td>0</td>\n",
       "      <td>0.0</td>\n",
       "      <td>M</td>\n",
       "    </tr>\n",
       "  </tbody>\n",
       "</table>\n",
       "</div>"
      ],
      "text/plain": [
       "               Candidate                               Party  Criminal Cases  \\\n",
       "0     Kuldeep Rai Sharma                                 INC               0   \n",
       "1            Ayan Mandal                                AITC               0   \n",
       "2         C G Saji Kumar  All India Hindustan Congress Party               0   \n",
       "3            C U Rasheed                                 IND               0   \n",
       "4  Gour Chandra Majumder                                 IND               0   \n",
       "\n",
       "               Education  Age  Total Assets                 Constituency  \\\n",
       "0  Graduate Professional   52   132233012.0  Andaman And Nicobar Islands   \n",
       "1               Graduate   30     7270440.0  Andaman And Nicobar Islands   \n",
       "2              12th Pass   48      120000.0  Andaman And Nicobar Islands   \n",
       "3              12th Pass   34      202808.0  Andaman And Nicobar Islands   \n",
       "4               Graduate   52     6062000.0  Andaman And Nicobar Islands   \n",
       "\n",
       "   Liabilities  Winner Gender  \n",
       "0     80450870     1.0      M  \n",
       "1      1500000     0.0      M  \n",
       "2            0     0.0      M  \n",
       "3      1700000     0.0      M  \n",
       "4            0     0.0      M  "
      ]
     },
     "execution_count": 5,
     "metadata": {},
     "output_type": "execute_result"
    }
   ],
   "source": [
    "candidates_2019 = pd.read_csv(\"LokSabha2019.csv\")\n",
    "#print(candidates_2024)\n",
    "candidates_2019.head()"
   ]
  },
  {
   "cell_type": "markdown",
   "id": "8b300a2b-4101-439b-b781-84e4d2555b7b",
   "metadata": {},
   "source": [
    "# Data Contains"
   ]
  },
  {
   "cell_type": "code",
   "execution_count": 6,
   "id": "1e9e899c-d45a-4680-a0f8-3d44dbbd7700",
   "metadata": {},
   "outputs": [
    {
     "data": {
      "text/plain": [
       "'Candidate - Name of the candidates.\\nParty - Policatical Party.\\nCriminal Cases - Crinimals  cases against candidate.\\nEducation - Education of candidate.\\nAge - Age of candidate.\\nTotal Assets - Total assets of candidate.\\nConstituency - Name of constituency from candidate stand in election.\\nLiabilties - Total Liabilities of candidate.\\nWinner - Does candidate won in election that year? (0 - No, 1 - yes)\\nGender - Gender of candidate. (M-Male, F-Female)'"
      ]
     },
     "execution_count": 6,
     "metadata": {},
     "output_type": "execute_result"
    }
   ],
   "source": [
    "'''Candidate - Name of the candidates.\n",
    "Party - Policatical Party.\n",
    "Criminal Cases - Crinimals  cases against candidate.\n",
    "Education - Education of candidate.\n",
    "Age - Age of candidate.\n",
    "Total Assets - Total assets of candidate.\n",
    "Constituency - Name of constituency from candidate stand in election.\n",
    "Liabilties - Total Liabilities of candidate.\n",
    "Winner - Does candidate won in election that year? (0 - No, 1 - yes)\n",
    "Gender - Gender of candidate. (M-Male, F-Female)'''"
   ]
  },
  {
   "cell_type": "code",
   "execution_count": 7,
   "id": "0abd1e60-e968-457d-b66d-2b4cc3708792",
   "metadata": {},
   "outputs": [],
   "source": [
    "candidates_2004 = pd.read_csv(\"LokSabha2004.csv\")\n",
    "candidates_2009 = pd.read_csv(\"LokSabha2009.csv\")\n",
    "candidates_2014 = pd.read_csv(\"LokSabha2014.csv\")\n",
    "candidates_2019 = pd.read_csv(\"LokSabha2019.csv\")"
   ]
  },
  {
   "cell_type": "code",
   "execution_count": null,
   "id": "2275f3de-a667-4ddc-b8c5-56640876ec48",
   "metadata": {},
   "outputs": [],
   "source": [
    "\n"
   ]
  },
  {
   "cell_type": "code",
   "execution_count": 8,
   "id": "f53d14a7-fa66-49d6-bc38-e11a094a89f0",
   "metadata": {},
   "outputs": [],
   "source": [
    "#Now we have year column in each dataframe. Lets merge them in once using pd.concat method."
   ]
  },
  {
   "cell_type": "code",
   "execution_count": 9,
   "id": "3191abd1",
   "metadata": {},
   "outputs": [],
   "source": [
    "candidates = pd.concat([candidates_2004,candidates_2014,candidates_2009,candidates_2019])"
   ]
  },
  {
   "cell_type": "code",
   "execution_count": 10,
   "id": "a8e1640a",
   "metadata": {},
   "outputs": [
    {
     "data": {
      "text/html": [
       "<div>\n",
       "<style scoped>\n",
       "    .dataframe tbody tr th:only-of-type {\n",
       "        vertical-align: middle;\n",
       "    }\n",
       "\n",
       "    .dataframe tbody tr th {\n",
       "        vertical-align: top;\n",
       "    }\n",
       "\n",
       "    .dataframe thead th {\n",
       "        text-align: right;\n",
       "    }\n",
       "</style>\n",
       "<table border=\"1\" class=\"dataframe\">\n",
       "  <thead>\n",
       "    <tr style=\"text-align: right;\">\n",
       "      <th></th>\n",
       "      <th>Candidate</th>\n",
       "      <th>Party</th>\n",
       "      <th>Criminal Cases</th>\n",
       "      <th>Education</th>\n",
       "      <th>Age</th>\n",
       "      <th>Total Assets</th>\n",
       "      <th>Constituency</th>\n",
       "      <th>Liabilities</th>\n",
       "      <th>Winner</th>\n",
       "      <th>Gender</th>\n",
       "    </tr>\n",
       "  </thead>\n",
       "  <tbody>\n",
       "    <tr>\n",
       "      <th>0</th>\n",
       "      <td>Manoranjan Bhakta</td>\n",
       "      <td>INC</td>\n",
       "      <td>0</td>\n",
       "      <td>Post Graduate</td>\n",
       "      <td>65</td>\n",
       "      <td>5926740.0</td>\n",
       "      <td>Andaman &amp; Nicobar Islands</td>\n",
       "      <td>272061</td>\n",
       "      <td>1.0</td>\n",
       "      <td>M</td>\n",
       "    </tr>\n",
       "    <tr>\n",
       "      <th>1</th>\n",
       "      <td>A K Biswas</td>\n",
       "      <td>BSP</td>\n",
       "      <td>0</td>\n",
       "      <td>Graduate</td>\n",
       "      <td>61</td>\n",
       "      <td>7876500.0</td>\n",
       "      <td>Andaman &amp; Nicobar Islands</td>\n",
       "      <td>65000</td>\n",
       "      <td>0.0</td>\n",
       "      <td>M</td>\n",
       "    </tr>\n",
       "    <tr>\n",
       "      <th>2</th>\n",
       "      <td>Asit Baran Dutta</td>\n",
       "      <td>IND</td>\n",
       "      <td>0</td>\n",
       "      <td>Graduate</td>\n",
       "      <td>50</td>\n",
       "      <td>3070000.0</td>\n",
       "      <td>Andaman &amp; Nicobar Islands</td>\n",
       "      <td>0</td>\n",
       "      <td>0.0</td>\n",
       "      <td>M</td>\n",
       "    </tr>\n",
       "    <tr>\n",
       "      <th>3</th>\n",
       "      <td>Bishnu Pada Ray</td>\n",
       "      <td>BJP</td>\n",
       "      <td>0</td>\n",
       "      <td>Graduate</td>\n",
       "      <td>54</td>\n",
       "      <td>1250619.0</td>\n",
       "      <td>Andaman &amp; Nicobar Islands</td>\n",
       "      <td>128710</td>\n",
       "      <td>0.0</td>\n",
       "      <td>M</td>\n",
       "    </tr>\n",
       "    <tr>\n",
       "      <th>4</th>\n",
       "      <td>Deepak Biswas</td>\n",
       "      <td>IND</td>\n",
       "      <td>0</td>\n",
       "      <td>Not Given</td>\n",
       "      <td>28</td>\n",
       "      <td>3000.0</td>\n",
       "      <td>Andaman &amp; Nicobar Islands</td>\n",
       "      <td>0</td>\n",
       "      <td>0.0</td>\n",
       "      <td>M</td>\n",
       "    </tr>\n",
       "  </tbody>\n",
       "</table>\n",
       "</div>"
      ],
      "text/plain": [
       "           Candidate Party  Criminal Cases      Education  Age  Total Assets  \\\n",
       "0  Manoranjan Bhakta   INC               0  Post Graduate   65     5926740.0   \n",
       "1         A K Biswas   BSP               0       Graduate   61     7876500.0   \n",
       "2   Asit Baran Dutta   IND               0       Graduate   50     3070000.0   \n",
       "3    Bishnu Pada Ray   BJP               0       Graduate   54     1250619.0   \n",
       "4      Deepak Biswas   IND               0      Not Given   28        3000.0   \n",
       "\n",
       "                Constituency  Liabilities  Winner Gender  \n",
       "0  Andaman & Nicobar Islands       272061     1.0      M  \n",
       "1  Andaman & Nicobar Islands        65000     0.0      M  \n",
       "2  Andaman & Nicobar Islands            0     0.0      M  \n",
       "3  Andaman & Nicobar Islands       128710     0.0      M  \n",
       "4  Andaman & Nicobar Islands            0     0.0      M  "
      ]
     },
     "execution_count": 10,
     "metadata": {},
     "output_type": "execute_result"
    }
   ],
   "source": [
    "candidates.head()"
   ]
  },
  {
   "cell_type": "markdown",
   "id": "1c816db8",
   "metadata": {},
   "source": [
    "# Statistics data"
   ]
  },
  {
   "cell_type": "code",
   "execution_count": 11,
   "id": "bb4810b1",
   "metadata": {},
   "outputs": [
    {
     "name": "stdout",
     "output_type": "stream",
     "text": [
      "<class 'pandas.core.frame.DataFrame'>\n",
      "Int64Index: 28014 entries, 0 to 7967\n",
      "Data columns (total 10 columns):\n",
      " #   Column          Non-Null Count  Dtype  \n",
      "---  ------          --------------  -----  \n",
      " 0   Candidate       28014 non-null  object \n",
      " 1   Party           28014 non-null  object \n",
      " 2   Criminal Cases  28014 non-null  int64  \n",
      " 3   Education       28014 non-null  object \n",
      " 4   Age             28014 non-null  int64  \n",
      " 5   Total Assets    27199 non-null  float64\n",
      " 6   Constituency    28014 non-null  object \n",
      " 7   Liabilities     28014 non-null  int64  \n",
      " 8   Winner          28014 non-null  float64\n",
      " 9   Gender          28014 non-null  object \n",
      "dtypes: float64(2), int64(3), object(5)\n",
      "memory usage: 2.4+ MB\n"
     ]
    }
   ],
   "source": [
    "candidates.info()"
   ]
  },
  {
   "cell_type": "code",
   "execution_count": 12,
   "id": "119cb243",
   "metadata": {},
   "outputs": [
    {
     "data": {
      "text/html": [
       "<div>\n",
       "<style scoped>\n",
       "    .dataframe tbody tr th:only-of-type {\n",
       "        vertical-align: middle;\n",
       "    }\n",
       "\n",
       "    .dataframe tbody tr th {\n",
       "        vertical-align: top;\n",
       "    }\n",
       "\n",
       "    .dataframe thead th {\n",
       "        text-align: right;\n",
       "    }\n",
       "</style>\n",
       "<table border=\"1\" class=\"dataframe\">\n",
       "  <thead>\n",
       "    <tr style=\"text-align: right;\">\n",
       "      <th></th>\n",
       "      <th>Criminal Cases</th>\n",
       "      <th>Age</th>\n",
       "      <th>Total Assets</th>\n",
       "      <th>Liabilities</th>\n",
       "      <th>Winner</th>\n",
       "    </tr>\n",
       "  </thead>\n",
       "  <tbody>\n",
       "    <tr>\n",
       "      <th>count</th>\n",
       "      <td>28014.000000</td>\n",
       "      <td>28014.000000</td>\n",
       "      <td>2.719900e+04</td>\n",
       "      <td>2.801400e+04</td>\n",
       "      <td>28014.000000</td>\n",
       "    </tr>\n",
       "    <tr>\n",
       "      <th>mean</th>\n",
       "      <td>0.483901</td>\n",
       "      <td>46.487078</td>\n",
       "      <td>3.433395e+07</td>\n",
       "      <td>3.086273e+06</td>\n",
       "      <td>0.037660</td>\n",
       "    </tr>\n",
       "    <tr>\n",
       "      <th>std</th>\n",
       "      <td>4.164205</td>\n",
       "      <td>12.546241</td>\n",
       "      <td>5.572976e+08</td>\n",
       "      <td>3.400576e+07</td>\n",
       "      <td>0.190375</td>\n",
       "    </tr>\n",
       "    <tr>\n",
       "      <th>min</th>\n",
       "      <td>0.000000</td>\n",
       "      <td>0.000000</td>\n",
       "      <td>2.000000e+00</td>\n",
       "      <td>0.000000e+00</td>\n",
       "      <td>0.000000</td>\n",
       "    </tr>\n",
       "    <tr>\n",
       "      <th>25%</th>\n",
       "      <td>0.000000</td>\n",
       "      <td>37.000000</td>\n",
       "      <td>3.302960e+05</td>\n",
       "      <td>0.000000e+00</td>\n",
       "      <td>0.000000</td>\n",
       "    </tr>\n",
       "    <tr>\n",
       "      <th>50%</th>\n",
       "      <td>0.000000</td>\n",
       "      <td>46.000000</td>\n",
       "      <td>1.851000e+06</td>\n",
       "      <td>0.000000e+00</td>\n",
       "      <td>0.000000</td>\n",
       "    </tr>\n",
       "    <tr>\n",
       "      <th>75%</th>\n",
       "      <td>0.000000</td>\n",
       "      <td>55.000000</td>\n",
       "      <td>8.663450e+06</td>\n",
       "      <td>2.700000e+05</td>\n",
       "      <td>0.000000</td>\n",
       "    </tr>\n",
       "    <tr>\n",
       "      <th>max</th>\n",
       "      <td>382.000000</td>\n",
       "      <td>94.000000</td>\n",
       "      <td>7.710296e+10</td>\n",
       "      <td>2.218003e+09</td>\n",
       "      <td>1.000000</td>\n",
       "    </tr>\n",
       "  </tbody>\n",
       "</table>\n",
       "</div>"
      ],
      "text/plain": [
       "       Criminal Cases           Age  Total Assets   Liabilities        Winner\n",
       "count    28014.000000  28014.000000  2.719900e+04  2.801400e+04  28014.000000\n",
       "mean         0.483901     46.487078  3.433395e+07  3.086273e+06      0.037660\n",
       "std          4.164205     12.546241  5.572976e+08  3.400576e+07      0.190375\n",
       "min          0.000000      0.000000  2.000000e+00  0.000000e+00      0.000000\n",
       "25%          0.000000     37.000000  3.302960e+05  0.000000e+00      0.000000\n",
       "50%          0.000000     46.000000  1.851000e+06  0.000000e+00      0.000000\n",
       "75%          0.000000     55.000000  8.663450e+06  2.700000e+05      0.000000\n",
       "max        382.000000     94.000000  7.710296e+10  2.218003e+09      1.000000"
      ]
     },
     "execution_count": 12,
     "metadata": {},
     "output_type": "execute_result"
    }
   ],
   "source": [
    "candidates.describe() # This function used Statistics information means we need numericals info\n"
   ]
  },
  {
   "cell_type": "code",
   "execution_count": 13,
   "id": "f8c88751",
   "metadata": {},
   "outputs": [
    {
     "data": {
      "text/plain": [
       "(28014, 10)"
      ]
     },
     "execution_count": 13,
     "metadata": {},
     "output_type": "execute_result"
    }
   ],
   "source": [
    "candidates.shape #This function is uesd to find col and rows"
   ]
  },
  {
   "cell_type": "markdown",
   "id": "5806358e",
   "metadata": {},
   "source": [
    "# Year wise Data Analysis and Visualization"
   ]
  },
  {
   "cell_type": "markdown",
   "id": "b91b0bf3",
   "metadata": {},
   "source": [
    "1Youngest candidates who participated in Lok Shabha Election?"
   ]
  },
  {
   "cell_type": "code",
   "execution_count": 14,
   "id": "7203ea28",
   "metadata": {},
   "outputs": [],
   "source": [
    "# Some entries have value lesser than 18 so i am ignoring those vale becoze that values are false."
   ]
  },
  {
   "cell_type": "code",
   "execution_count": 15,
   "id": "9a5b8eda",
   "metadata": {},
   "outputs": [],
   "source": [
    "candidates_age_2004 = candidates_2004[candidates_2004['Age' ]>18]\n",
    "candidates_age_2014 = candidates_2014[candidates_2014['Age' ]>18]\n",
    "candidates_age_2009 = candidates_2009[candidates_2009['Age' ]>18]\n",
    "candidates_age_2019 = candidates_2019[candidates_2019['Age' ]>18]"
   ]
  },
  {
   "cell_type": "code",
   "execution_count": 16,
   "id": "ef70dc14",
   "metadata": {},
   "outputs": [
    {
     "data": {
      "text/plain": [
       "25"
      ]
     },
     "execution_count": 16,
     "metadata": {},
     "output_type": "execute_result"
    }
   ],
   "source": [
    "candidates_age_2004['Age'].min()"
   ]
  },
  {
   "cell_type": "code",
   "execution_count": 17,
   "id": "f8ef7e58",
   "metadata": {},
   "outputs": [
    {
     "data": {
      "text/plain": [
       "21"
      ]
     },
     "execution_count": 17,
     "metadata": {},
     "output_type": "execute_result"
    }
   ],
   "source": [
    "candidates_age_2014['Age'].min()"
   ]
  },
  {
   "cell_type": "code",
   "execution_count": 18,
   "id": "917ca6bf",
   "metadata": {},
   "outputs": [
    {
     "data": {
      "text/plain": [
       "24"
      ]
     },
     "execution_count": 18,
     "metadata": {},
     "output_type": "execute_result"
    }
   ],
   "source": [
    "candidates_age_2019['Age'].min()"
   ]
  },
  {
   "cell_type": "code",
   "execution_count": 19,
   "id": "0ab2e1fd",
   "metadata": {},
   "outputs": [
    {
     "data": {
      "text/plain": [
       "25"
      ]
     },
     "execution_count": 19,
     "metadata": {},
     "output_type": "execute_result"
    }
   ],
   "source": [
    "candidates_age_2009['Age'].min()"
   ]
  },
  {
   "cell_type": "code",
   "execution_count": 20,
   "id": "e7069ec5",
   "metadata": {},
   "outputs": [
    {
     "data": {
      "text/html": [
       "<div>\n",
       "<style scoped>\n",
       "    .dataframe tbody tr th:only-of-type {\n",
       "        vertical-align: middle;\n",
       "    }\n",
       "\n",
       "    .dataframe tbody tr th {\n",
       "        vertical-align: top;\n",
       "    }\n",
       "\n",
       "    .dataframe thead th {\n",
       "        text-align: right;\n",
       "    }\n",
       "</style>\n",
       "<table border=\"1\" class=\"dataframe\">\n",
       "  <thead>\n",
       "    <tr style=\"text-align: right;\">\n",
       "      <th></th>\n",
       "      <th>Candidate</th>\n",
       "      <th>Party</th>\n",
       "      <th>Criminal Cases</th>\n",
       "      <th>Education</th>\n",
       "      <th>Age</th>\n",
       "      <th>Total Assets</th>\n",
       "      <th>Constituency</th>\n",
       "      <th>Liabilities</th>\n",
       "      <th>Winner</th>\n",
       "      <th>Gender</th>\n",
       "    </tr>\n",
       "  </thead>\n",
       "  <tbody>\n",
       "    <tr>\n",
       "      <th>393</th>\n",
       "      <td>Om Prakash Paswan</td>\n",
       "      <td>AD</td>\n",
       "      <td>0</td>\n",
       "      <td>Not Given</td>\n",
       "      <td>25</td>\n",
       "      <td>15000.0</td>\n",
       "      <td>Araria</td>\n",
       "      <td>9000</td>\n",
       "      <td>0</td>\n",
       "      <td>M</td>\n",
       "    </tr>\n",
       "    <tr>\n",
       "      <th>420</th>\n",
       "      <td>Sarjoon Paswan</td>\n",
       "      <td>IND</td>\n",
       "      <td>0</td>\n",
       "      <td>Not Given</td>\n",
       "      <td>25</td>\n",
       "      <td>185000.0</td>\n",
       "      <td>Aurangabad</td>\n",
       "      <td>0</td>\n",
       "      <td>0</td>\n",
       "      <td>M</td>\n",
       "    </tr>\n",
       "    <tr>\n",
       "      <th>550</th>\n",
       "      <td>Shakti Raj</td>\n",
       "      <td>BSP</td>\n",
       "      <td>0</td>\n",
       "      <td>Graduate</td>\n",
       "      <td>25</td>\n",
       "      <td>94500.0</td>\n",
       "      <td>Gaya</td>\n",
       "      <td>0</td>\n",
       "      <td>0</td>\n",
       "      <td>M</td>\n",
       "    </tr>\n",
       "    <tr>\n",
       "      <th>556</th>\n",
       "      <td>Monika Tiwari</td>\n",
       "      <td>BED</td>\n",
       "      <td>0</td>\n",
       "      <td>Post Graduate</td>\n",
       "      <td>25</td>\n",
       "      <td>41000.0</td>\n",
       "      <td>Gopalganj</td>\n",
       "      <td>0</td>\n",
       "      <td>0</td>\n",
       "      <td>F</td>\n",
       "    </tr>\n",
       "    <tr>\n",
       "      <th>569</th>\n",
       "      <td>Uttam Choudhary Unnat</td>\n",
       "      <td>JD(S)</td>\n",
       "      <td>0</td>\n",
       "      <td>Post Graduate</td>\n",
       "      <td>25</td>\n",
       "      <td>20000.0</td>\n",
       "      <td>Hajipur</td>\n",
       "      <td>0</td>\n",
       "      <td>0</td>\n",
       "      <td>M</td>\n",
       "    </tr>\n",
       "  </tbody>\n",
       "</table>\n",
       "</div>"
      ],
      "text/plain": [
       "                 Candidate  Party  Criminal Cases      Education  Age  \\\n",
       "393      Om Prakash Paswan     AD               0      Not Given   25   \n",
       "420         Sarjoon Paswan    IND               0      Not Given   25   \n",
       "550             Shakti Raj    BSP               0       Graduate   25   \n",
       "556          Monika Tiwari    BED               0  Post Graduate   25   \n",
       "569  Uttam Choudhary Unnat  JD(S)               0  Post Graduate   25   \n",
       "\n",
       "     Total Assets Constituency  Liabilities  Winner Gender  \n",
       "393       15000.0       Araria         9000       0      M  \n",
       "420      185000.0   Aurangabad            0       0      M  \n",
       "550       94500.0         Gaya            0       0      M  \n",
       "556       41000.0    Gopalganj            0       0      F  \n",
       "569       20000.0      Hajipur            0       0      M  "
      ]
     },
     "execution_count": 20,
     "metadata": {},
     "output_type": "execute_result"
    }
   ],
   "source": [
    "candidates_age_2004[candidates_age_2004['Age'] == candidates_age_2004['Age'].min()].head()"
   ]
  },
  {
   "cell_type": "code",
   "execution_count": 21,
   "id": "310de8e3",
   "metadata": {},
   "outputs": [],
   "source": [
    "# In 2004 lok sabha election, yougest candidate age was 25 years."
   ]
  },
  {
   "cell_type": "code",
   "execution_count": 22,
   "id": "7b1e0cd1",
   "metadata": {},
   "outputs": [
    {
     "data": {
      "text/html": [
       "<div>\n",
       "<style scoped>\n",
       "    .dataframe tbody tr th:only-of-type {\n",
       "        vertical-align: middle;\n",
       "    }\n",
       "\n",
       "    .dataframe tbody tr th {\n",
       "        vertical-align: top;\n",
       "    }\n",
       "\n",
       "    .dataframe thead th {\n",
       "        text-align: right;\n",
       "    }\n",
       "</style>\n",
       "<table border=\"1\" class=\"dataframe\">\n",
       "  <thead>\n",
       "    <tr style=\"text-align: right;\">\n",
       "      <th></th>\n",
       "      <th>Candidate</th>\n",
       "      <th>Party</th>\n",
       "      <th>Criminal Cases</th>\n",
       "      <th>Education</th>\n",
       "      <th>Age</th>\n",
       "      <th>Total Assets</th>\n",
       "      <th>Constituency</th>\n",
       "      <th>Liabilities</th>\n",
       "      <th>Winner</th>\n",
       "      <th>Gender</th>\n",
       "    </tr>\n",
       "  </thead>\n",
       "  <tbody>\n",
       "    <tr>\n",
       "      <th>7242</th>\n",
       "      <td>Ravikant Yadav</td>\n",
       "      <td>IND</td>\n",
       "      <td>0</td>\n",
       "      <td>Graduate</td>\n",
       "      <td>21</td>\n",
       "      <td>1100000.0</td>\n",
       "      <td>JAUNPUR</td>\n",
       "      <td>0</td>\n",
       "      <td>0.0</td>\n",
       "      <td>M</td>\n",
       "    </tr>\n",
       "  </tbody>\n",
       "</table>\n",
       "</div>"
      ],
      "text/plain": [
       "           Candidate Party  Criminal Cases Education  Age  Total Assets  \\\n",
       "7242  Ravikant Yadav   IND               0  Graduate   21     1100000.0   \n",
       "\n",
       "     Constituency  Liabilities  Winner Gender  \n",
       "7242      JAUNPUR            0     0.0      M  "
      ]
     },
     "execution_count": 22,
     "metadata": {},
     "output_type": "execute_result"
    }
   ],
   "source": [
    "candidates_age_2014[candidates_age_2014['Age'] == candidates_age_2014['Age'].min()].head()"
   ]
  },
  {
   "cell_type": "code",
   "execution_count": 23,
   "id": "67355f33",
   "metadata": {},
   "outputs": [],
   "source": [
    "# In 2004 lok sabha election, yougest candidate age was 21 years."
   ]
  },
  {
   "cell_type": "code",
   "execution_count": 24,
   "id": "e5decd9f",
   "metadata": {
    "scrolled": true
   },
   "outputs": [
    {
     "data": {
      "text/html": [
       "<div>\n",
       "<style scoped>\n",
       "    .dataframe tbody tr th:only-of-type {\n",
       "        vertical-align: middle;\n",
       "    }\n",
       "\n",
       "    .dataframe tbody tr th {\n",
       "        vertical-align: top;\n",
       "    }\n",
       "\n",
       "    .dataframe thead th {\n",
       "        text-align: right;\n",
       "    }\n",
       "</style>\n",
       "<table border=\"1\" class=\"dataframe\">\n",
       "  <thead>\n",
       "    <tr style=\"text-align: right;\">\n",
       "      <th></th>\n",
       "      <th>Candidate</th>\n",
       "      <th>Party</th>\n",
       "      <th>Criminal Cases</th>\n",
       "      <th>Education</th>\n",
       "      <th>Age</th>\n",
       "      <th>Total Assets</th>\n",
       "      <th>Constituency</th>\n",
       "      <th>Liabilities</th>\n",
       "      <th>Winner</th>\n",
       "      <th>Gender</th>\n",
       "    </tr>\n",
       "  </thead>\n",
       "  <tbody>\n",
       "    <tr>\n",
       "      <th>570</th>\n",
       "      <td>Taba Taku</td>\n",
       "      <td>LB</td>\n",
       "      <td>0</td>\n",
       "      <td>Graduate</td>\n",
       "      <td>25</td>\n",
       "      <td>10000.0</td>\n",
       "      <td>Arunachal West</td>\n",
       "      <td>0</td>\n",
       "      <td>0</td>\n",
       "      <td>M</td>\n",
       "    </tr>\n",
       "    <tr>\n",
       "      <th>887</th>\n",
       "      <td>Binita Baitha</td>\n",
       "      <td>IND</td>\n",
       "      <td>0</td>\n",
       "      <td>Graduate</td>\n",
       "      <td>25</td>\n",
       "      <td>80000.0</td>\n",
       "      <td>Gopalganj</td>\n",
       "      <td>0</td>\n",
       "      <td>0</td>\n",
       "      <td>F</td>\n",
       "    </tr>\n",
       "    <tr>\n",
       "      <th>1017</th>\n",
       "      <td>Mohammad Nissar Alam</td>\n",
       "      <td>JMM</td>\n",
       "      <td>0</td>\n",
       "      <td>8th Pass</td>\n",
       "      <td>25</td>\n",
       "      <td>206500.0</td>\n",
       "      <td>Kishanganj</td>\n",
       "      <td>45000</td>\n",
       "      <td>0</td>\n",
       "      <td>M</td>\n",
       "    </tr>\n",
       "    <tr>\n",
       "      <th>1128</th>\n",
       "      <td>Kumar Rajesh</td>\n",
       "      <td>IND</td>\n",
       "      <td>0</td>\n",
       "      <td>Graduate</td>\n",
       "      <td>25</td>\n",
       "      <td>2.0</td>\n",
       "      <td>Nalanda</td>\n",
       "      <td>0</td>\n",
       "      <td>0</td>\n",
       "      <td>M</td>\n",
       "    </tr>\n",
       "    <tr>\n",
       "      <th>1174</th>\n",
       "      <td>Durgesh Nandan Singh</td>\n",
       "      <td>IND</td>\n",
       "      <td>0</td>\n",
       "      <td>Graduate Professional</td>\n",
       "      <td>25</td>\n",
       "      <td>23000.0</td>\n",
       "      <td>Pataliputra</td>\n",
       "      <td>0</td>\n",
       "      <td>0</td>\n",
       "      <td>M</td>\n",
       "    </tr>\n",
       "  </tbody>\n",
       "</table>\n",
       "</div>"
      ],
      "text/plain": [
       "                 Candidate Party  Criminal Cases              Education  Age  \\\n",
       "570              Taba Taku    LB               0               Graduate   25   \n",
       "887          Binita Baitha   IND               0               Graduate   25   \n",
       "1017  Mohammad Nissar Alam   JMM               0               8th Pass   25   \n",
       "1128          Kumar Rajesh   IND               0               Graduate   25   \n",
       "1174  Durgesh Nandan Singh   IND               0  Graduate Professional   25   \n",
       "\n",
       "      Total Assets    Constituency  Liabilities  Winner Gender  \n",
       "570        10000.0  Arunachal West            0       0      M  \n",
       "887        80000.0       Gopalganj            0       0      F  \n",
       "1017      206500.0      Kishanganj        45000       0      M  \n",
       "1128           2.0         Nalanda            0       0      M  \n",
       "1174       23000.0     Pataliputra            0       0      M  "
      ]
     },
     "execution_count": 24,
     "metadata": {},
     "output_type": "execute_result"
    }
   ],
   "source": [
    "candidates_age_2009[candidates_age_2009['Age'] == candidates_age_2009['Age'].min()].head()"
   ]
  },
  {
   "cell_type": "code",
   "execution_count": 25,
   "id": "ada3dd13",
   "metadata": {},
   "outputs": [],
   "source": [
    "# In 2004 lok sabha election, yougest candidate age was 25 years."
   ]
  },
  {
   "cell_type": "code",
   "execution_count": 26,
   "id": "de8af070",
   "metadata": {},
   "outputs": [
    {
     "data": {
      "text/html": [
       "<div>\n",
       "<style scoped>\n",
       "    .dataframe tbody tr th:only-of-type {\n",
       "        vertical-align: middle;\n",
       "    }\n",
       "\n",
       "    .dataframe tbody tr th {\n",
       "        vertical-align: top;\n",
       "    }\n",
       "\n",
       "    .dataframe thead th {\n",
       "        text-align: right;\n",
       "    }\n",
       "</style>\n",
       "<table border=\"1\" class=\"dataframe\">\n",
       "  <thead>\n",
       "    <tr style=\"text-align: right;\">\n",
       "      <th></th>\n",
       "      <th>Candidate</th>\n",
       "      <th>Party</th>\n",
       "      <th>Criminal Cases</th>\n",
       "      <th>Education</th>\n",
       "      <th>Age</th>\n",
       "      <th>Total Assets</th>\n",
       "      <th>Constituency</th>\n",
       "      <th>Liabilities</th>\n",
       "      <th>Winner</th>\n",
       "      <th>Gender</th>\n",
       "    </tr>\n",
       "  </thead>\n",
       "  <tbody>\n",
       "    <tr>\n",
       "      <th>5774</th>\n",
       "      <td>Ponnuthai G</td>\n",
       "      <td>IND</td>\n",
       "      <td>0</td>\n",
       "      <td>12th Pass</td>\n",
       "      <td>24</td>\n",
       "      <td>118000.0</td>\n",
       "      <td>Tenkasi</td>\n",
       "      <td>0</td>\n",
       "      <td>0.0</td>\n",
       "      <td>F</td>\n",
       "    </tr>\n",
       "  </tbody>\n",
       "</table>\n",
       "</div>"
      ],
      "text/plain": [
       "        Candidate Party  Criminal Cases  Education  Age  Total Assets  \\\n",
       "5774  Ponnuthai G   IND               0  12th Pass   24      118000.0   \n",
       "\n",
       "     Constituency  Liabilities  Winner Gender  \n",
       "5774      Tenkasi            0     0.0      F  "
      ]
     },
     "execution_count": 26,
     "metadata": {},
     "output_type": "execute_result"
    }
   ],
   "source": [
    "candidates_age_2019[candidates_age_2019['Age'] == candidates_age_2019['Age'].min()]"
   ]
  },
  {
   "cell_type": "code",
   "execution_count": 27,
   "id": "52c8f560",
   "metadata": {},
   "outputs": [],
   "source": [
    "# In 2004 lok sabha election, yougest candidate age was 24 years."
   ]
  },
  {
   "cell_type": "code",
   "execution_count": 28,
   "id": "560cfa83",
   "metadata": {},
   "outputs": [],
   "source": [
    "#Ravikant Yadav is the youngest candidate to participate in the Lok Sabha election."
   ]
  },
  {
   "cell_type": "code",
   "execution_count": null,
   "id": "824fdccc",
   "metadata": {},
   "outputs": [],
   "source": []
  },
  {
   "cell_type": "code",
   "execution_count": 29,
   "id": "c8236b6d",
   "metadata": {
    "scrolled": false
   },
   "outputs": [
    {
     "data": {
      "image/png": "[encoded data removed]",
      "text/plain": [
       "<Figure size 2000x1200 with 1 Axes>"
      ]
     },
     "metadata": {},
     "output_type": "display_data"
    }
   ],
   "source": [
    "# Assuming candidate_age_2009 is your DataFrame\n",
    "plt.figure(figsize=(20, 12))  # Creates a large figure\n",
    "sns.countplot(x='Age', data=candidates_age_2009, palette='Dark2', edgecolor=(0, 0, 0), hue=None)\n",
    "plt.title('Candidate Age Count', fontsize=20)  # Adds title with font size\n",
    "plt.xlabel('Age')  # Label for x-axis\n",
    "plt.ylabel('Count')  # Label for y-axis\n",
    "plt.xticks(fontsize=12, rotation=180)  # Rotates x-axis tick labels\n",
    "plt.show()  # Displays the plot\n",
    "\n"
   ]
  },
  {
   "cell_type": "code",
   "execution_count": 30,
   "id": "6516fd1a",
   "metadata": {},
   "outputs": [],
   "source": [
    "#Most Candidates : The majority of candidates were aged 45 to 50, with the highest number around 40-45 years old.\n",
    "#Younger Paricipation : Fewer candidates were 30 years old, indicating less participation from younger people.\n",
    "#Older Participation : After 60 years, the number of condidates sharply decreses, with few particiants above 70 years.\n",
    "            "
   ]
  },
  {
   "cell_type": "code",
   "execution_count": 31,
   "id": "14e420f5",
   "metadata": {},
   "outputs": [
    {
     "data": {
      "image/png": "[encoded data removed]",
      "text/plain": [
       "<Figure size 2000x1200 with 1 Axes>"
      ]
     },
     "metadata": {},
     "output_type": "display_data"
    }
   ],
   "source": [
    "# Assuming candidate_age_2019 is your DataFrame\n",
    "plt.figure(figsize=(20, 12))  # Creates a large figure\n",
    "sns.countplot(x='Age', data=candidates_age_2019, palette='Dark2', edgecolor=(0, 0, 0), hue=None)\n",
    "plt.title('Candidate Age Count', fontsize=20)  # Adds title with font size\n",
    "plt.xlabel('Age')  # Label for x-axis\n",
    "plt.ylabel('Count')  # Label for y-axis\n",
    "plt.xticks(fontsize=12, rotation=90)  # Rotates x-axis tick labels\n",
    "plt.show()  # Displays the plot"
   ]
  },
  {
   "cell_type": "code",
   "execution_count": 32,
   "id": "c15c79bf",
   "metadata": {},
   "outputs": [
    {
     "data": {
      "image/png": "[encoded data removed]",
      "text/plain": [
       "<Figure size 2000x1200 with 1 Axes>"
      ]
     },
     "metadata": {},
     "output_type": "display_data"
    }
   ],
   "source": [
    "# Assuming candidate_age_2014 is your DataFrame\n",
    "plt.figure(figsize=(20, 12))  # Creates a large figure\n",
    "sns.countplot(x='Age', data=candidates_age_2014, palette='Dark2', edgecolor=(0, 0, 0), hue=None)\n",
    "plt.title('Candidate Age Count', fontsize=20)  # Adds title with font size\n",
    "plt.xlabel('Age')  # Label for x-axis\n",
    "plt.ylabel('Count')  # Label for y-axis\n",
    "plt.xticks(fontsize=12, rotation=90)  # Rotates x-axis tick labels\n",
    "plt.show()  # Displays the plot"
   ]
  },
  {
   "cell_type": "code",
   "execution_count": 33,
   "id": "5ff21f9c",
   "metadata": {},
   "outputs": [
    {
     "data": {
      "image/png": "[encoded data removed]",
      "text/plain": [
       "<Figure size 2000x1200 with 1 Axes>"
      ]
     },
     "metadata": {},
     "output_type": "display_data"
    }
   ],
   "source": [
    "# Assuming candidate_age_2009 is your DataFrame\n",
    "plt.figure(figsize=(20, 12))  # Creates a large figure\n",
    "sns.countplot(x='Age', data=candidates_age_2009, palette='Dark2', edgecolor=(0, 0, 0), hue=None)\n",
    "plt.title('Candidate Age Count', fontsize=20)  # Adds title with font size\n",
    "plt.xlabel('Age')  # Label for x-axis\n",
    "plt.ylabel('Count')  # Label for y-axis\n",
    "plt.xticks(fontsize=12, rotation=90)  # Rotates x-axis tick labels\n",
    "plt.show()  # Displays the plot"
   ]
  },
  {
   "cell_type": "code",
   "execution_count": 34,
   "id": "cad9cf71",
   "metadata": {},
   "outputs": [
    {
     "data": {
      "text/plain": [
       "38    904\n",
       "43    898\n",
       "42    875\n",
       "39    869\n",
       "40    859\n",
       "     ... \n",
       "85      1\n",
       "4       1\n",
       "87      1\n",
       "90      1\n",
       "24      1\n",
       "Name: Age, Length: 71, dtype: int64"
      ]
     },
     "execution_count": 34,
     "metadata": {},
     "output_type": "execute_result"
    }
   ],
   "source": [
    "candidates['Age'].value_counts()"
   ]
  },
  {
   "cell_type": "code",
   "execution_count": 35,
   "id": "465c121d",
   "metadata": {},
   "outputs": [],
   "source": [
    "#There are 904 candidates who are 38 years old."
   ]
  },
  {
   "cell_type": "markdown",
   "id": "6b2b29a7",
   "metadata": {},
   "source": [
    "2. Candidates with Highest number of Criminal Cases."
   ]
  },
  {
   "cell_type": "code",
   "execution_count": 36,
   "id": "df8e32e9",
   "metadata": {},
   "outputs": [
    {
     "data": {
      "text/plain": [
       "36"
      ]
     },
     "execution_count": 36,
     "metadata": {},
     "output_type": "execute_result"
    }
   ],
   "source": [
    "candidates_2004['Criminal Cases'].max()"
   ]
  },
  {
   "cell_type": "code",
   "execution_count": 37,
   "id": "b458e27a",
   "metadata": {},
   "outputs": [
    {
     "data": {
      "text/html": [
       "<div>\n",
       "<style scoped>\n",
       "    .dataframe tbody tr th:only-of-type {\n",
       "        vertical-align: middle;\n",
       "    }\n",
       "\n",
       "    .dataframe tbody tr th {\n",
       "        vertical-align: top;\n",
       "    }\n",
       "\n",
       "    .dataframe thead th {\n",
       "        text-align: right;\n",
       "    }\n",
       "</style>\n",
       "<table border=\"1\" class=\"dataframe\">\n",
       "  <thead>\n",
       "    <tr style=\"text-align: right;\">\n",
       "      <th></th>\n",
       "      <th>Candidate</th>\n",
       "      <th>Party</th>\n",
       "      <th>Criminal Cases</th>\n",
       "      <th>Education</th>\n",
       "      <th>Age</th>\n",
       "      <th>Total Assets</th>\n",
       "      <th>Constituency</th>\n",
       "      <th>Liabilities</th>\n",
       "      <th>Winner</th>\n",
       "      <th>Gender</th>\n",
       "    </tr>\n",
       "  </thead>\n",
       "  <tbody>\n",
       "    <tr>\n",
       "      <th>3144</th>\n",
       "      <td>Atique Ahamad</td>\n",
       "      <td>SP</td>\n",
       "      <td>36</td>\n",
       "      <td>8th Pass</td>\n",
       "      <td>41</td>\n",
       "      <td>33704071.0</td>\n",
       "      <td>Phulpur</td>\n",
       "      <td>0</td>\n",
       "      <td>0</td>\n",
       "      <td>M</td>\n",
       "    </tr>\n",
       "  </tbody>\n",
       "</table>\n",
       "</div>"
      ],
      "text/plain": [
       "          Candidate Party  Criminal Cases Education  Age  Total Assets  \\\n",
       "3144  Atique Ahamad    SP              36  8th Pass   41    33704071.0   \n",
       "\n",
       "     Constituency  Liabilities  Winner Gender  \n",
       "3144      Phulpur            0       0      M  "
      ]
     },
     "execution_count": 37,
     "metadata": {},
     "output_type": "execute_result"
    }
   ],
   "source": [
    "candidates_2004[candidates_2004['Criminal Cases'] == candidates_2004['Criminal Cases'].max()]"
   ]
  },
  {
   "cell_type": "code",
   "execution_count": 38,
   "id": "6ef43bd7",
   "metadata": {},
   "outputs": [
    {
     "data": {
      "text/plain": [
       "240"
      ]
     },
     "execution_count": 38,
     "metadata": {},
     "output_type": "execute_result"
    }
   ],
   "source": [
    "candidates_2019['Criminal Cases'].max()"
   ]
  },
  {
   "cell_type": "code",
   "execution_count": 39,
   "id": "9175daeb",
   "metadata": {},
   "outputs": [
    {
     "data": {
      "text/html": [
       "<div>\n",
       "<style scoped>\n",
       "    .dataframe tbody tr th:only-of-type {\n",
       "        vertical-align: middle;\n",
       "    }\n",
       "\n",
       "    .dataframe tbody tr th {\n",
       "        vertical-align: top;\n",
       "    }\n",
       "\n",
       "    .dataframe thead th {\n",
       "        text-align: right;\n",
       "    }\n",
       "</style>\n",
       "<table border=\"1\" class=\"dataframe\">\n",
       "  <thead>\n",
       "    <tr style=\"text-align: right;\">\n",
       "      <th></th>\n",
       "      <th>Candidate</th>\n",
       "      <th>Party</th>\n",
       "      <th>Criminal Cases</th>\n",
       "      <th>Education</th>\n",
       "      <th>Age</th>\n",
       "      <th>Total Assets</th>\n",
       "      <th>Constituency</th>\n",
       "      <th>Liabilities</th>\n",
       "      <th>Winner</th>\n",
       "      <th>Gender</th>\n",
       "    </tr>\n",
       "  </thead>\n",
       "  <tbody>\n",
       "    <tr>\n",
       "      <th>2908</th>\n",
       "      <td>K Surendran</td>\n",
       "      <td>BJP</td>\n",
       "      <td>240</td>\n",
       "      <td>Graduate</td>\n",
       "      <td>49</td>\n",
       "      <td>4044300.0</td>\n",
       "      <td>Pathanamthitta</td>\n",
       "      <td>1308799</td>\n",
       "      <td>0.0</td>\n",
       "      <td>M</td>\n",
       "    </tr>\n",
       "  </tbody>\n",
       "</table>\n",
       "</div>"
      ],
      "text/plain": [
       "        Candidate Party  Criminal Cases Education  Age  Total Assets  \\\n",
       "2908  K Surendran   BJP             240  Graduate   49     4044300.0   \n",
       "\n",
       "        Constituency  Liabilities  Winner Gender  \n",
       "2908  Pathanamthitta      1308799     0.0      M  "
      ]
     },
     "execution_count": 39,
     "metadata": {},
     "output_type": "execute_result"
    }
   ],
   "source": [
    "candidates_2019[candidates_2019['Criminal Cases'] == candidates_2019['Criminal Cases'].max()]"
   ]
  },
  {
   "cell_type": "code",
   "execution_count": 40,
   "id": "7835e8f9",
   "metadata": {},
   "outputs": [
    {
     "data": {
      "text/plain": [
       "382"
      ]
     },
     "execution_count": 40,
     "metadata": {},
     "output_type": "execute_result"
    }
   ],
   "source": [
    "candidates_2014['Criminal Cases'].max()"
   ]
  },
  {
   "cell_type": "code",
   "execution_count": 41,
   "id": "192d2fa2",
   "metadata": {},
   "outputs": [
    {
     "data": {
      "text/html": [
       "<div>\n",
       "<style scoped>\n",
       "    .dataframe tbody tr th:only-of-type {\n",
       "        vertical-align: middle;\n",
       "    }\n",
       "\n",
       "    .dataframe tbody tr th {\n",
       "        vertical-align: top;\n",
       "    }\n",
       "\n",
       "    .dataframe thead th {\n",
       "        text-align: right;\n",
       "    }\n",
       "</style>\n",
       "<table border=\"1\" class=\"dataframe\">\n",
       "  <thead>\n",
       "    <tr style=\"text-align: right;\">\n",
       "      <th></th>\n",
       "      <th>Candidate</th>\n",
       "      <th>Party</th>\n",
       "      <th>Criminal Cases</th>\n",
       "      <th>Education</th>\n",
       "      <th>Age</th>\n",
       "      <th>Total Assets</th>\n",
       "      <th>Constituency</th>\n",
       "      <th>Liabilities</th>\n",
       "      <th>Winner</th>\n",
       "      <th>Gender</th>\n",
       "    </tr>\n",
       "  </thead>\n",
       "  <tbody>\n",
       "    <tr>\n",
       "      <th>5714</th>\n",
       "      <td>Udayakumar S.P.</td>\n",
       "      <td>AAP</td>\n",
       "      <td>382</td>\n",
       "      <td>Doctorate</td>\n",
       "      <td>54</td>\n",
       "      <td>52080000.0</td>\n",
       "      <td>KANNIYAKUMARI</td>\n",
       "      <td>297000</td>\n",
       "      <td>0.0</td>\n",
       "      <td>M</td>\n",
       "    </tr>\n",
       "  </tbody>\n",
       "</table>\n",
       "</div>"
      ],
      "text/plain": [
       "            Candidate Party  Criminal Cases  Education  Age  Total Assets  \\\n",
       "5714  Udayakumar S.P.   AAP             382  Doctorate   54    52080000.0   \n",
       "\n",
       "       Constituency  Liabilities  Winner Gender  \n",
       "5714  KANNIYAKUMARI       297000     0.0      M  "
      ]
     },
     "execution_count": 41,
     "metadata": {},
     "output_type": "execute_result"
    }
   ],
   "source": [
    "candidates_2014[candidates_2014['Criminal Cases'] == candidates_2014['Criminal Cases'].max()]\n"
   ]
  },
  {
   "cell_type": "code",
   "execution_count": 42,
   "id": "6180920a",
   "metadata": {},
   "outputs": [
    {
     "data": {
      "text/plain": [
       "46"
      ]
     },
     "execution_count": 42,
     "metadata": {},
     "output_type": "execute_result"
    }
   ],
   "source": [
    "candidates_2009['Criminal Cases'].max()"
   ]
  },
  {
   "cell_type": "code",
   "execution_count": 43,
   "id": "09652814",
   "metadata": {},
   "outputs": [
    {
     "data": {
      "text/html": [
       "<div>\n",
       "<style scoped>\n",
       "    .dataframe tbody tr th:only-of-type {\n",
       "        vertical-align: middle;\n",
       "    }\n",
       "\n",
       "    .dataframe tbody tr th {\n",
       "        vertical-align: top;\n",
       "    }\n",
       "\n",
       "    .dataframe thead th {\n",
       "        text-align: right;\n",
       "    }\n",
       "</style>\n",
       "<table border=\"1\" class=\"dataframe\">\n",
       "  <thead>\n",
       "    <tr style=\"text-align: right;\">\n",
       "      <th></th>\n",
       "      <th>Candidate</th>\n",
       "      <th>Party</th>\n",
       "      <th>Criminal Cases</th>\n",
       "      <th>Education</th>\n",
       "      <th>Age</th>\n",
       "      <th>Total Assets</th>\n",
       "      <th>Constituency</th>\n",
       "      <th>Liabilities</th>\n",
       "      <th>Winner</th>\n",
       "      <th>Gender</th>\n",
       "    </tr>\n",
       "  </thead>\n",
       "  <tbody>\n",
       "    <tr>\n",
       "      <th>2427</th>\n",
       "      <td>Kameshwar Baitha</td>\n",
       "      <td>JMM</td>\n",
       "      <td>46</td>\n",
       "      <td>10th Pass</td>\n",
       "      <td>56</td>\n",
       "      <td>570000.0</td>\n",
       "      <td>Palamau</td>\n",
       "      <td>0</td>\n",
       "      <td>0</td>\n",
       "      <td>M</td>\n",
       "    </tr>\n",
       "  </tbody>\n",
       "</table>\n",
       "</div>"
      ],
      "text/plain": [
       "             Candidate Party  Criminal Cases  Education  Age  Total Assets  \\\n",
       "2427  Kameshwar Baitha   JMM              46  10th Pass   56      570000.0   \n",
       "\n",
       "     Constituency  Liabilities  Winner Gender  \n",
       "2427      Palamau            0       0      M  "
      ]
     },
     "execution_count": 43,
     "metadata": {},
     "output_type": "execute_result"
    }
   ],
   "source": [
    "candidates_2009[candidates_2009['Criminal Cases'] == candidates_2009['Criminal Cases'].max()]"
   ]
  },
  {
   "cell_type": "code",
   "execution_count": 44,
   "id": "d337bc20",
   "metadata": {},
   "outputs": [],
   "source": [
    "# The Highest criminal cases are 382 and 2014."
   ]
  },
  {
   "cell_type": "code",
   "execution_count": 45,
   "id": "c1cefa44",
   "metadata": {},
   "outputs": [
    {
     "data": {
      "text/html": [
       "<style type=\"text/css\">\n",
       "#T_e48ac_row0_col2, #T_e48ac_row0_col4, #T_e48ac_row4_col4 {\n",
       "  background-color: #004529;\n",
       "  color: #f1f1f1;\n",
       "}\n",
       "#T_e48ac_row1_col2 {\n",
       "  background-color: #004629;\n",
       "  color: #f1f1f1;\n",
       "}\n",
       "#T_e48ac_row1_col4 {\n",
       "  background-color: #6bc072;\n",
       "  color: #000000;\n",
       "}\n",
       "#T_e48ac_row2_col2 {\n",
       "  background-color: #5db96b;\n",
       "  color: #f1f1f1;\n",
       "}\n",
       "#T_e48ac_row2_col4 {\n",
       "  background-color: #2e924c;\n",
       "  color: #f1f1f1;\n",
       "}\n",
       "#T_e48ac_row3_col2 {\n",
       "  background-color: #8ed082;\n",
       "  color: #000000;\n",
       "}\n",
       "#T_e48ac_row3_col4, #T_e48ac_row4_col2 {\n",
       "  background-color: #ffffe5;\n",
       "  color: #000000;\n",
       "}\n",
       "</style>\n",
       "<table id=\"T_e48ac\">\n",
       "  <thead>\n",
       "    <tr>\n",
       "      <th class=\"blank level0\" >&nbsp;</th>\n",
       "      <th id=\"T_e48ac_level0_col0\" class=\"col_heading level0 col0\" >Candidate</th>\n",
       "      <th id=\"T_e48ac_level0_col1\" class=\"col_heading level0 col1\" >Party</th>\n",
       "      <th id=\"T_e48ac_level0_col2\" class=\"col_heading level0 col2\" >Criminal Cases</th>\n",
       "      <th id=\"T_e48ac_level0_col3\" class=\"col_heading level0 col3\" >Education</th>\n",
       "      <th id=\"T_e48ac_level0_col4\" class=\"col_heading level0 col4\" >Age</th>\n",
       "      <th id=\"T_e48ac_level0_col5\" class=\"col_heading level0 col5\" >Total Assets</th>\n",
       "      <th id=\"T_e48ac_level0_col6\" class=\"col_heading level0 col6\" >Constituency</th>\n",
       "      <th id=\"T_e48ac_level0_col7\" class=\"col_heading level0 col7\" >Liabilities</th>\n",
       "      <th id=\"T_e48ac_level0_col8\" class=\"col_heading level0 col8\" >Winner</th>\n",
       "      <th id=\"T_e48ac_level0_col9\" class=\"col_heading level0 col9\" >Gender</th>\n",
       "    </tr>\n",
       "  </thead>\n",
       "  <tbody>\n",
       "    <tr>\n",
       "      <th id=\"T_e48ac_level0_row0\" class=\"row_heading level0 row0\" >5714</th>\n",
       "      <td id=\"T_e48ac_row0_col0\" class=\"data row0 col0\" >Udayakumar S.P.</td>\n",
       "      <td id=\"T_e48ac_row0_col1\" class=\"data row0 col1\" >AAP</td>\n",
       "      <td id=\"T_e48ac_row0_col2\" class=\"data row0 col2\" >382</td>\n",
       "      <td id=\"T_e48ac_row0_col3\" class=\"data row0 col3\" >Doctorate</td>\n",
       "      <td id=\"T_e48ac_row0_col4\" class=\"data row0 col4\" >54</td>\n",
       "      <td id=\"T_e48ac_row0_col5\" class=\"data row0 col5\" >52080000.000000</td>\n",
       "      <td id=\"T_e48ac_row0_col6\" class=\"data row0 col6\" >KANNIYAKUMARI</td>\n",
       "      <td id=\"T_e48ac_row0_col7\" class=\"data row0 col7\" >297000</td>\n",
       "      <td id=\"T_e48ac_row0_col8\" class=\"data row0 col8\" >0.000000</td>\n",
       "      <td id=\"T_e48ac_row0_col9\" class=\"data row0 col9\" >M</td>\n",
       "    </tr>\n",
       "    <tr>\n",
       "      <th id=\"T_e48ac_level0_row1\" class=\"row_heading level0 row1\" >6056</th>\n",
       "      <td id=\"T_e48ac_row1_col0\" class=\"data row1 col0\" >M.Pushparayan</td>\n",
       "      <td id=\"T_e48ac_row1_col1\" class=\"data row1 col1\" >AAP</td>\n",
       "      <td id=\"T_e48ac_row1_col2\" class=\"data row1 col2\" >380</td>\n",
       "      <td id=\"T_e48ac_row1_col3\" class=\"data row1 col3\" >Post Graduate</td>\n",
       "      <td id=\"T_e48ac_row1_col4\" class=\"data row1 col4\" >46</td>\n",
       "      <td id=\"T_e48ac_row1_col5\" class=\"data row1 col5\" >8775806.000000</td>\n",
       "      <td id=\"T_e48ac_row1_col6\" class=\"data row1 col6\" >THOOTHUKKUDI</td>\n",
       "      <td id=\"T_e48ac_row1_col7\" class=\"data row1 col7\" >0</td>\n",
       "      <td id=\"T_e48ac_row1_col8\" class=\"data row1 col8\" >0.000000</td>\n",
       "      <td id=\"T_e48ac_row1_col9\" class=\"data row1 col9\" >M</td>\n",
       "    </tr>\n",
       "    <tr>\n",
       "      <th id=\"T_e48ac_level0_row2\" class=\"row_heading level0 row2\" >2908</th>\n",
       "      <td id=\"T_e48ac_row2_col0\" class=\"data row2 col0\" >K Surendran</td>\n",
       "      <td id=\"T_e48ac_row2_col1\" class=\"data row2 col1\" >BJP</td>\n",
       "      <td id=\"T_e48ac_row2_col2\" class=\"data row2 col2\" >240</td>\n",
       "      <td id=\"T_e48ac_row2_col3\" class=\"data row2 col3\" >Graduate</td>\n",
       "      <td id=\"T_e48ac_row2_col4\" class=\"data row2 col4\" >49</td>\n",
       "      <td id=\"T_e48ac_row2_col5\" class=\"data row2 col5\" >4044300.000000</td>\n",
       "      <td id=\"T_e48ac_row2_col6\" class=\"data row2 col6\" >Pathanamthitta</td>\n",
       "      <td id=\"T_e48ac_row2_col7\" class=\"data row2 col7\" >1308799</td>\n",
       "      <td id=\"T_e48ac_row2_col8\" class=\"data row2 col8\" >0.000000</td>\n",
       "      <td id=\"T_e48ac_row2_col9\" class=\"data row2 col9\" >M</td>\n",
       "    </tr>\n",
       "    <tr>\n",
       "      <th id=\"T_e48ac_level0_row3\" class=\"row_heading level0 row3\" >2818</th>\n",
       "      <td id=\"T_e48ac_row3_col0\" class=\"data row3 col0\" >Dean Kuriakose</td>\n",
       "      <td id=\"T_e48ac_row3_col1\" class=\"data row3 col1\" >INC</td>\n",
       "      <td id=\"T_e48ac_row3_col2\" class=\"data row3 col2\" >204</td>\n",
       "      <td id=\"T_e48ac_row3_col3\" class=\"data row3 col3\" >Post Graduate</td>\n",
       "      <td id=\"T_e48ac_row3_col4\" class=\"data row3 col4\" >37</td>\n",
       "      <td id=\"T_e48ac_row3_col5\" class=\"data row3 col5\" >13395011.000000</td>\n",
       "      <td id=\"T_e48ac_row3_col6\" class=\"data row3 col6\" >Idukki</td>\n",
       "      <td id=\"T_e48ac_row3_col7\" class=\"data row3 col7\" >10000000</td>\n",
       "      <td id=\"T_e48ac_row3_col8\" class=\"data row3 col8\" >0.000000</td>\n",
       "      <td id=\"T_e48ac_row3_col9\" class=\"data row3 col9\" >M</td>\n",
       "    </tr>\n",
       "    <tr>\n",
       "      <th id=\"T_e48ac_level0_row4\" class=\"row_heading level0 row4\" >7432</th>\n",
       "      <td id=\"T_e48ac_row4_col0\" class=\"data row4 col0\" >Ateek Ahmad</td>\n",
       "      <td id=\"T_e48ac_row4_col1\" class=\"data row4 col1\" >IND</td>\n",
       "      <td id=\"T_e48ac_row4_col2\" class=\"data row4 col2\" >59</td>\n",
       "      <td id=\"T_e48ac_row4_col3\" class=\"data row4 col3\" >8th Pass</td>\n",
       "      <td id=\"T_e48ac_row4_col4\" class=\"data row4 col4\" >54</td>\n",
       "      <td id=\"T_e48ac_row4_col5\" class=\"data row4 col5\" >255020529.000000</td>\n",
       "      <td id=\"T_e48ac_row4_col6\" class=\"data row4 col6\" >Varanasi</td>\n",
       "      <td id=\"T_e48ac_row4_col7\" class=\"data row4 col7\" >0</td>\n",
       "      <td id=\"T_e48ac_row4_col8\" class=\"data row4 col8\" >0.000000</td>\n",
       "      <td id=\"T_e48ac_row4_col9\" class=\"data row4 col9\" >M</td>\n",
       "    </tr>\n",
       "  </tbody>\n",
       "</table>\n"
      ],
      "text/plain": [
       "<pandas.io.formats.style.Styler at 0x1afb2fc5bd0>"
      ]
     },
     "execution_count": 45,
     "metadata": {},
     "output_type": "execute_result"
    }
   ],
   "source": [
    "candidates.sort_values(['Criminal Cases'], ascending=False).head().style.background_gradient(subset = ['Age', 'Criminal Cases'], cmap = 'YlGn')"
   ]
  },
  {
   "cell_type": "code",
   "execution_count": 46,
   "id": "ed2d8e42",
   "metadata": {},
   "outputs": [
    {
     "data": {
      "text/html": [
       "<div>\n",
       "<style scoped>\n",
       "    .dataframe tbody tr th:only-of-type {\n",
       "        vertical-align: middle;\n",
       "    }\n",
       "\n",
       "    .dataframe tbody tr th {\n",
       "        vertical-align: top;\n",
       "    }\n",
       "\n",
       "    .dataframe thead th {\n",
       "        text-align: right;\n",
       "    }\n",
       "</style>\n",
       "<table border=\"1\" class=\"dataframe\">\n",
       "  <thead>\n",
       "    <tr style=\"text-align: right;\">\n",
       "      <th></th>\n",
       "      <th>Candidate</th>\n",
       "      <th>Party</th>\n",
       "      <th>Criminal Cases</th>\n",
       "      <th>Education</th>\n",
       "      <th>Age</th>\n",
       "      <th>Total Assets</th>\n",
       "      <th>Constituency</th>\n",
       "      <th>Liabilities</th>\n",
       "      <th>Winner</th>\n",
       "      <th>Gender</th>\n",
       "    </tr>\n",
       "  </thead>\n",
       "  <tbody>\n",
       "    <tr>\n",
       "      <th>5714</th>\n",
       "      <td>Udayakumar S.P.</td>\n",
       "      <td>AAP</td>\n",
       "      <td>382</td>\n",
       "      <td>Doctorate</td>\n",
       "      <td>54</td>\n",
       "      <td>52080000.0</td>\n",
       "      <td>KANNIYAKUMARI</td>\n",
       "      <td>297000</td>\n",
       "      <td>0.0</td>\n",
       "      <td>M</td>\n",
       "    </tr>\n",
       "    <tr>\n",
       "      <th>6056</th>\n",
       "      <td>M.Pushparayan</td>\n",
       "      <td>AAP</td>\n",
       "      <td>380</td>\n",
       "      <td>Post Graduate</td>\n",
       "      <td>46</td>\n",
       "      <td>8775806.0</td>\n",
       "      <td>THOOTHUKKUDI</td>\n",
       "      <td>0</td>\n",
       "      <td>0.0</td>\n",
       "      <td>M</td>\n",
       "    </tr>\n",
       "    <tr>\n",
       "      <th>2908</th>\n",
       "      <td>K Surendran</td>\n",
       "      <td>BJP</td>\n",
       "      <td>240</td>\n",
       "      <td>Graduate</td>\n",
       "      <td>49</td>\n",
       "      <td>4044300.0</td>\n",
       "      <td>Pathanamthitta</td>\n",
       "      <td>1308799</td>\n",
       "      <td>0.0</td>\n",
       "      <td>M</td>\n",
       "    </tr>\n",
       "    <tr>\n",
       "      <th>2818</th>\n",
       "      <td>Dean Kuriakose</td>\n",
       "      <td>INC</td>\n",
       "      <td>204</td>\n",
       "      <td>Post Graduate</td>\n",
       "      <td>37</td>\n",
       "      <td>13395011.0</td>\n",
       "      <td>Idukki</td>\n",
       "      <td>10000000</td>\n",
       "      <td>0.0</td>\n",
       "      <td>M</td>\n",
       "    </tr>\n",
       "    <tr>\n",
       "      <th>7432</th>\n",
       "      <td>Ateek Ahmad</td>\n",
       "      <td>IND</td>\n",
       "      <td>59</td>\n",
       "      <td>8th Pass</td>\n",
       "      <td>54</td>\n",
       "      <td>255020529.0</td>\n",
       "      <td>Varanasi</td>\n",
       "      <td>0</td>\n",
       "      <td>0.0</td>\n",
       "      <td>M</td>\n",
       "    </tr>\n",
       "  </tbody>\n",
       "</table>\n",
       "</div>"
      ],
      "text/plain": [
       "            Candidate Party  Criminal Cases      Education  Age  Total Assets  \\\n",
       "5714  Udayakumar S.P.   AAP             382      Doctorate   54    52080000.0   \n",
       "6056    M.Pushparayan   AAP             380  Post Graduate   46     8775806.0   \n",
       "2908      K Surendran   BJP             240       Graduate   49     4044300.0   \n",
       "2818   Dean Kuriakose   INC             204  Post Graduate   37    13395011.0   \n",
       "7432      Ateek Ahmad   IND              59       8th Pass   54   255020529.0   \n",
       "\n",
       "        Constituency  Liabilities  Winner Gender  \n",
       "5714   KANNIYAKUMARI       297000     0.0      M  \n",
       "6056    THOOTHUKKUDI            0     0.0      M  \n",
       "2908  Pathanamthitta      1308799     0.0      M  \n",
       "2818          Idukki     10000000     0.0      M  \n",
       "7432        Varanasi            0     0.0      M  "
      ]
     },
     "execution_count": 46,
     "metadata": {},
     "output_type": "execute_result"
    }
   ],
   "source": [
    "candidates.sort_values(by = 'Criminal Cases', ascending=False).head()"
   ]
  },
  {
   "cell_type": "markdown",
   "id": "3f68ffdd",
   "metadata": {},
   "source": [
    "Candidate Udaykumar S.P has highest number of criminal cases which are 382."
   ]
  },
  {
   "cell_type": "markdown",
   "id": "ba2b20de",
   "metadata": {},
   "source": [
    "# Number of candidate participated from each Party since 2004"
   ]
  },
  {
   "cell_type": "code",
   "execution_count": 47,
   "id": "73e88138",
   "metadata": {},
   "outputs": [
    {
     "data": {
      "image/png": "[encoded data removed]",
      "text/plain": [
       "<Figure size 640x480 with 1 Axes>"
      ]
     },
     "metadata": {},
     "output_type": "display_data"
    }
   ],
   "source": [
    "loc = candidates['Party'].value_counts()\n",
    "sns.set(style='whitegrid')\n",
    "sns.barplot(\n",
    "    x = loc[:10],\n",
    "    y = loc[:10].index,\n",
    "    palette = 'Set2'\n",
    ")\n",
    "plt.xticks(rotation=90)\n",
    "plt.xlabel('Party')\n",
    "plt.ylabel('Candidate Count')\n",
    "plt.title(\n",
    "      'Different Political Party and Candidates Count',fontweight='bold')\n",
    "plt.show()"
   ]
  },
  {
   "cell_type": "markdown",
   "id": "3808b416",
   "metadata": {},
   "source": [
    "# Education of each candidate"
   ]
  },
  {
   "cell_type": "code",
   "execution_count": 48,
   "id": "12b36b9a",
   "metadata": {
    "scrolled": true
   },
   "outputs": [
    {
     "data": {
      "text/plain": [
       "Graduate                 5305\n",
       "Post Graduate            4606\n",
       "10th Pass                4082\n",
       "12th Pass                3773\n",
       "Graduate Professional    2715\n",
       "8th Pass                 2150\n",
       "Not Given                1276\n",
       "Literate                 1181\n",
       "5th Pass                 1167\n",
       "Others                    709\n",
       "Doctorate                 672\n",
       "Illiterate                378\n",
       "Name: Education, dtype: int64"
      ]
     },
     "execution_count": 48,
     "metadata": {},
     "output_type": "execute_result"
    }
   ],
   "source": [
    "candidates['Education'].value_counts()"
   ]
  },
  {
   "cell_type": "code",
   "execution_count": 49,
   "id": "9b0768f8",
   "metadata": {
    "scrolled": true
   },
   "outputs": [
    {
     "data": {
      "text/plain": [
       "Text(0, 0.5, 'Qualification')"
      ]
     },
     "execution_count": 49,
     "metadata": {},
     "output_type": "execute_result"
    },
    {
     "data": {
      "image/png": "[encoded data removed]",
      "text/plain": [
       "<Figure size 2000x1000 with 1 Axes>"
      ]
     },
     "metadata": {},
     "output_type": "display_data"
    }
   ],
   "source": [
    "candidates['Education'].value_counts().plot(kind='barh', figsize=(20,10))\n",
    "plt.xlabel('Num of candidates')\n",
    "plt.ylabel('Qualification')\n"
   ]
  },
  {
   "cell_type": "markdown",
   "id": "bd01a204",
   "metadata": {},
   "source": [
    "Most comman education level is Graduation"
   ]
  },
  {
   "cell_type": "code",
   "execution_count": null,
   "id": "0ac86cb3",
   "metadata": {},
   "outputs": [],
   "source": []
  }
 ],
 "metadata": {
  "kernelspec": {
   "display_name": "Python 3 (ipykernel)",
   "language": "python",
   "name": "python3"
  },
  "language_info": {
   "codemirror_mode": {
    "name": "ipython",
    "version": 3
   },
   "file_extension": ".py",
   "mimetype": "text/x-python",
   "name": "python",
   "nbconvert_exporter": "python",
   "pygments_lexer": "ipython3",
   "version": "3.11.4"
  }
 },
 "nbformat": 4,
 "nbformat_minor": 5
}
